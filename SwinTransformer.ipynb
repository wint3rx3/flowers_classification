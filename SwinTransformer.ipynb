{
  "nbformat": 4,
  "nbformat_minor": 0,
  "metadata": {
    "colab": {
      "provenance": [],
      "authorship_tag": "ABX9TyN3lfvM2PsxoV0MPCEzF1o4",
      "include_colab_link": true
    },
    "kernelspec": {
      "name": "python3",
      "display_name": "Python 3"
    },
    "language_info": {
      "name": "python"
    }
  },
  "cells": [
    {
      "cell_type": "markdown",
      "metadata": {
        "id": "view-in-github",
        "colab_type": "text"
      },
      "source": [
        "<a href=\"https://colab.research.google.com/github/wint3rx3/flowers_classification/blob/main/SwinTransformer.ipynb\" target=\"_parent\"><img src=\"https://colab.research.google.com/assets/colab-badge.svg\" alt=\"Open In Colab\"/></a>"
      ]
    },
    {
      "cell_type": "code",
      "source": [
        "pip install tensorflow tensorflow-hub"
      ],
      "metadata": {
        "id": "BQDL1b966_Po"
      },
      "execution_count": null,
      "outputs": []
    },
    {
      "cell_type": "code",
      "execution_count": null,
      "metadata": {
        "id": "XQma4KIdCfyE"
      },
      "outputs": [],
      "source": [
        "import tensorflow as tf\n",
        "import tensorflow_hub as hub\n",
        "from tensorflow.keras.models import Model\n",
        "from tensorflow.keras.layers import Dense, Input, Lambda\n",
        "from tensorflow.keras.optimizers import Adam\n",
        "from tensorflow.keras.callbacks import EarlyStopping, ReduceLROnPlateau\n",
        "import matplotlib.pyplot as plt\n",
        "\n",
        "NUM_CLASSES = 5  # 실제 클래스 수에 맞게 수정\n",
        "EPOCHS = 5      # 예시로 10으로 설정 (적절히 조정)\n",
        "LEARNING_RATE = 1e-3\n",
        "\n",
        "SWIN_MODEL_URL = \"https://tfhub.dev/sayakpaul/swin_tiny_patch4_window7_224/1\"\n",
        "\n",
        "inputs = Input(shape=(224, 224, 3))\n",
        "\n",
        "swin_layer = hub.KerasLayer(\n",
        "    SWIN_MODEL_URL,\n",
        "    trainable=False,\n",
        "    output_shape=[1000]\n",
        ")\n",
        "\n",
        "features = Lambda(lambda x: swin_layer(x),\n",
        "                  output_shape=lambda input_shape: (input_shape[0], 1000))(inputs)\n",
        "x = Dense(256, activation='relu')(features)\n",
        "outputs = Dense(NUM_CLASSES, activation='softmax')(x)\n",
        "\n",
        "model_swin = Model(inputs=inputs, outputs=outputs)\n",
        "\n",
        "model_swin.compile(\n",
        "    optimizer=Adam(learning_rate=LEARNING_RATE),\n",
        "    loss='sparse_categorical_crossentropy',\n",
        "    metrics=['accuracy']\n",
        ")\n",
        "\n",
        "model_swin.summary()\n",
        "\n",
        "early_stopping = EarlyStopping(\n",
        "    monitor='val_loss',\n",
        "    patience=3,              # val_loss가 3 epoch 연속 개선되지 않으면 중단\n",
        "    restore_best_weights=True\n",
        ")\n",
        "\n",
        "reduce_lr = ReduceLROnPlateau(\n",
        "    monitor='val_loss',\n",
        "    factor=0.2,              # 학습률을 1/5로 감소\n",
        "    patience=2,              # 2 epoch 동안 개선 없으면 감소\n",
        "    min_lr=1e-6\n",
        ")\n",
        "\n",
        "history_swin = model_swin.fit(\n",
        "    train_generator,\n",
        "    epochs=EPOCHS,\n",
        "    validation_data=validation_generator,\n",
        "    callbacks=[early_stopping, reduce_lr]\n",
        ")\n",
        "\n",
        "loss_swin, accuracy_swin = model_swin.evaluate(validation_generator)\n",
        "print(f\"Swin Validation Loss: {loss_swin:.4f}\")\n",
        "print(f\"Swin Validation Accuracy: {accuracy_swin:.4f}\")\n",
        "\n",
        "plt.figure(figsize=(12, 4))\n",
        "\n",
        "plt.subplot(1, 2, 1)\n",
        "plt.plot(history_swin.history['loss'], label='Train Loss')\n",
        "plt.plot(history_swin.history['val_loss'], label='Val Loss')\n",
        "plt.xlabel('Epoch')\n",
        "plt.ylabel('Loss')\n",
        "plt.title('Swin Transformer Loss over Epochs')\n",
        "plt.legend()\n",
        "\n",
        "plt.subplot(1, 2, 2)\n",
        "plt.plot(history_swin.history['accuracy'], label='Train Accuracy')\n",
        "plt.plot(history_swin.history['val_accuracy'], label='Val Accuracy')\n",
        "plt.xlabel('Epoch')\n",
        "plt.ylabel('Accuracy')\n",
        "plt.title('Swin Transformer Accuracy over Epochs')\n",
        "plt.legend()\n",
        "\n",
        "plt.tight_layout()\n",
        "plt.show()\n"
      ]
    }
  ]
}
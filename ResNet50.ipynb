{
  "cells": [
    {
      "cell_type": "markdown",
      "metadata": {
        "id": "view-in-github",
        "colab_type": "text"
      },
      "source": [
        "<a href=\"https://colab.research.google.com/github/wint3rx3/flowers_classification/blob/main/ResNet50.ipynb\" target=\"_parent\"><img src=\"https://colab.research.google.com/assets/colab-badge.svg\" alt=\"Open In Colab\"/></a>"
      ]
    },
    {
      "cell_type": "markdown",
      "source": [],
      "metadata": {
        "id": "VOJDwviMpnNd"
      }
    },
    {
      "cell_type": "code",
      "execution_count": 1,
      "metadata": {
        "id": "qfLvS-dxFI9v"
      },
      "outputs": [],
      "source": [
        "import os\n",
        "import zipfile\n",
        "import numpy as np\n",
        "import matplotlib.pyplot as plt\n",
        "from collections import Counter\n",
        "\n",
        "from tensorflow.keras.preprocessing.image import ImageDataGenerator\n",
        "from tensorflow.keras.applications import ResNet50\n",
        "from tensorflow.keras.models import Sequential\n",
        "from tensorflow.keras.layers import GlobalAveragePooling2D, Dense\n",
        "from tensorflow.keras.optimizers import Adam\n",
        "from tensorflow.keras.callbacks import EarlyStopping, ReduceLROnPlateau\n",
        "\n",
        "import mysql.connector\n",
        "from mysql.connector import Error"
      ]
    },
    {
      "cell_type": "code",
      "source": [
        "class MySQLLogger(tf.keras.callbacks.Callback):\n",
        "    def __init__(self, host, user, password, database, table_name):\n",
        "        super(MySQLLogger, self).__init__()\n",
        "        self.host = host\n",
        "        self.user = user\n",
        "        self.password = password\n",
        "        self.database = database\n",
        "        self.table_name = table_name\n",
        "        self.conn = None\n",
        "        self.cursor = None\n",
        "\n",
        "    def on_train_begin(self, logs=None):\n",
        "        try:\n",
        "            self.conn = mysql.connector.connect(\n",
        "                host=self.host,\n",
        "                user=self.user,\n",
        "                password=self.password,\n",
        "                database=self.database\n",
        "            )\n",
        "            self.cursor = self.conn.cursor()\n",
        "            # 테이블이 없으면 생성\n",
        "            create_table_query = f\"\"\"\n",
        "            CREATE TABLE IF NOT EXISTS {self.table_name} (\n",
        "                epoch INT PRIMARY KEY,\n",
        "                loss FLOAT,\n",
        "                accuracy FLOAT,\n",
        "                val_loss FLOAT,\n",
        "                val_accuracy FLOAT\n",
        "            )\n",
        "            \"\"\"\n",
        "            self.cursor.execute(create_table_query)\n",
        "            self.conn.commit()\n",
        "            print(\"MySQL 연결 및 테이블 준비 완료\")\n",
        "        except Error as e:\n",
        "            print(\"MySQL 연결 오류:\", e)\n",
        "\n",
        "    def on_epoch_end(self, epoch, logs=None):\n",
        "        logs = logs or {}\n",
        "        loss = logs.get('loss')\n",
        "        accuracy = logs.get('accuracy')\n",
        "        val_loss = logs.get('val_loss')\n",
        "        val_accuracy = logs.get('val_accuracy')\n",
        "\n",
        "        insert_query = f\"\"\"\n",
        "        INSERT INTO {self.table_name} (epoch, loss, accuracy, val_loss, val_accuracy)\n",
        "        VALUES (%s, %s, %s, %s, %s)\n",
        "        \"\"\"\n",
        "        data = (epoch + 1, loss, accuracy, val_loss, val_accuracy)\n",
        "        try:\n",
        "            self.cursor.execute(insert_query, data)\n",
        "            self.conn.commit()\n",
        "            print(f\"Epoch {epoch+1} 데이터 저장 완료\")\n",
        "        except Error as e:\n",
        "            print(\"데이터 저장 오류:\", e)\n",
        "\n",
        "    def on_train_end(self, logs=None):\n",
        "        if self.cursor:\n",
        "            self.cursor.close()\n",
        "        if self.conn:\n",
        "            self.conn.close()\n",
        "        print(\"MySQL 연결 종료\")"
      ],
      "metadata": {
        "id": "OMXmXgoXrK45"
      },
      "execution_count": null,
      "outputs": []
    },
    {
      "cell_type": "markdown",
      "source": [
        "1. 데이터 다운로드 및 압축 해제"
      ],
      "metadata": {
        "id": "0xnZzczKpphO"
      }
    },
    {
      "cell_type": "code",
      "execution_count": 3,
      "metadata": {
        "colab": {
          "base_uri": "https://localhost:8080/"
        },
        "id": "VDhZbRjPIw29",
        "outputId": "36ff911e-3c8f-423d-f297-68bc939ed4c3"
      },
      "outputs": [
        {
          "output_type": "stream",
          "name": "stdout",
          "text": [
            "Dataset URL: https://www.kaggle.com/datasets/imsparsh/flowers-dataset\n",
            "License(s): CC0-1.0\n"
          ]
        }
      ],
      "source": [
        "!mkdir -p ~/.kaggle\n",
        "!cp kaggle.json ~/.kaggle/\n",
        "!chmod 600 ~/.kaggle/kaggle.json\n",
        "\n",
        "!kaggle datasets download -d imsparsh/flowers-dataset\n",
        "\n",
        "zip_path = \"flowers-dataset.zip\"\n",
        "extract_path = \"./flowers-dataset\"\n",
        "\n",
        "with zipfile.ZipFile(zip_path, 'r') as zip_ref:\n",
        "    zip_ref.extractall(extract_path)\n",
        "\n",
        "TRAIN_DIR = '/content/flowers-dataset/train'\n",
        "TEST_DIR  = '/content/flowers-dataset/test'"
      ]
    },
    {
      "cell_type": "markdown",
      "source": [
        "2. 클래스 정보 및 클래스 불균형 확인"
      ],
      "metadata": {
        "id": "CMEvRKqwplHD"
      }
    },
    {
      "cell_type": "code",
      "execution_count": 4,
      "metadata": {
        "colab": {
          "base_uri": "https://localhost:8080/"
        },
        "id": "T0T1bc3-VlD8",
        "outputId": "0a154bf3-7774-4f01-df10-87b94c06a6ea"
      },
      "outputs": [
        {
          "output_type": "stream",
          "name": "stdout",
          "text": [
            "Classes: ['daisy', 'dandelion', 'rose', 'sunflower', 'tulip']\n",
            "Class Counts: {'daisy': 501, 'dandelion': 646, 'rose': 497, 'sunflower': 495, 'tulip': 607}\n",
            "Class Weight: {0: 1.0962075848303394, 1: 0.8501547987616099, 2: 1.105030181086519, 3: 1.1094949494949495, 4: 0.9047775947281713}\n"
          ]
        }
      ],
      "source": [
        "classes = sorted(os.listdir(TRAIN_DIR))\n",
        "NUM_CLASSES = len(classes)\n",
        "print(\"Classes:\", classes)\n",
        "\n",
        "# 각 클래스별 이미지 수 확인\n",
        "class_counts = [len(os.listdir(os.path.join(TRAIN_DIR, cls))) for cls in classes]\n",
        "print(\"Class Counts:\", dict(zip(classes, class_counts)))\n",
        "total_samples = sum(class_counts)\n",
        "\n",
        "# Keras 공식 문서 제안 방식에 따른 class_weight 계산\n",
        "class_weight = {i: total_samples / (NUM_CLASSES * count) for i, count in enumerate(class_counts)}\n",
        "print(\"Class Weight:\", class_weight)"
      ]
    },
    {
      "cell_type": "markdown",
      "source": [
        "3. 데이터 증강 및 ImageDataGenerator 설정"
      ],
      "metadata": {
        "id": "6m_2Aksjpy5y"
      }
    },
    {
      "cell_type": "code",
      "execution_count": 5,
      "metadata": {
        "colab": {
          "base_uri": "https://localhost:8080/"
        },
        "id": "0jPLbQm4I1IO",
        "outputId": "668ddcc3-8f49-4957-e92a-478118323752"
      },
      "outputs": [
        {
          "output_type": "stream",
          "name": "stdout",
          "text": [
            "Found 2198 images belonging to 5 classes.\n",
            "Found 548 images belonging to 5 classes.\n"
          ]
        }
      ],
      "source": [
        "BATCH_SIZE = 32\n",
        "IMG_SIZE = (224, 224)\n",
        "VAL_SPLIT = 0.2\n",
        "\n",
        "train_datagen = ImageDataGenerator(\n",
        "    rescale=1/255.0,\n",
        "    rotation_range=20,\n",
        "    width_shift_range=0.1,\n",
        "    height_shift_range=0.2,\n",
        "    shear_range=0.1,\n",
        "    zoom_range=0.1,\n",
        "    horizontal_flip=True,\n",
        "    fill_mode='nearest',\n",
        "    validation_split=VAL_SPLIT\n",
        ")\n",
        "\n",
        "train_generator = train_datagen.flow_from_directory(\n",
        "    TRAIN_DIR,\n",
        "    target_size=IMG_SIZE,\n",
        "    batch_size=BATCH_SIZE,\n",
        "    class_mode='categorical',  # one-hot 인코딩 사용\n",
        "    subset='training',\n",
        "    shuffle=True\n",
        ")\n",
        "\n",
        "validation_generator = train_datagen.flow_from_directory(\n",
        "    TRAIN_DIR,\n",
        "    target_size=IMG_SIZE,\n",
        "    batch_size=BATCH_SIZE,\n",
        "    class_mode='categorical',\n",
        "    subset='validation',\n",
        "    shuffle=False\n",
        ")"
      ]
    },
    {
      "cell_type": "markdown",
      "source": [
        "4. 데이터 라벨 분포 시각화"
      ],
      "metadata": {
        "id": "l8RSSb56p2rU"
      }
    },
    {
      "cell_type": "code",
      "execution_count": 9,
      "metadata": {
        "colab": {
          "base_uri": "https://localhost:8080/",
          "height": 599
        },
        "id": "lkecz2KUKL-H",
        "outputId": "e3dbd94f-672c-47e8-d993-67f178169722"
      },
      "outputs": [
        {
          "output_type": "stream",
          "name": "stdout",
          "text": [
            "===== Label Distribution (Train) =====\n",
            "Class 0: 401 images\n",
            "Class 1: 517 images\n",
            "Class 2: 398 images\n",
            "Class 3: 396 images\n",
            "Class 4: 486 images\n",
            "\n",
            "===== Label Distribution (Validation) =====\n",
            "Class 0: 100 images\n",
            "Class 1: 129 images\n",
            "Class 2: 99 images\n",
            "Class 3: 99 images\n",
            "Class 4: 121 images\n"
          ]
        },
        {
          "output_type": "display_data",
          "data": {
            "text/plain": [
              "<Figure size 1200x500 with 2 Axes>"
            ],
            "image/png": "[encoded data removed]"
          },
          "metadata": {}
        }
      ],
      "source": [
        "# Generator를 통해 실제 라벨 분포 수집\n",
        "train_labels = []\n",
        "validation_labels = []\n",
        "\n",
        "train_generator.reset()\n",
        "for i in range(len(train_generator)):\n",
        "    _, y = next(train_generator)\n",
        "    train_labels.extend(np.argmax(y, axis=1))\n",
        "\n",
        "validation_generator.reset()\n",
        "for i in range(len(validation_generator)):\n",
        "    _, y = next(validation_generator)\n",
        "    validation_labels.extend(np.argmax(y, axis=1))\n",
        "\n",
        "train_label_counts = Counter(train_labels)\n",
        "val_label_counts = Counter(validation_labels)\n",
        "\n",
        "print(\"===== Label Distribution (Train) =====\")\n",
        "for k, v in sorted(train_label_counts.items()):\n",
        "    print(f\"Class {k}: {v} images\")\n",
        "print(\"\\n===== Label Distribution (Validation) =====\")\n",
        "for k, v in sorted(val_label_counts.items()):\n",
        "    print(f\"Class {k}: {v} images\")\n",
        "\n",
        "# 간단한 바 차트 시각화\n",
        "plt.figure(figsize=(12, 5))\n",
        "plt.subplot(1, 2, 1)\n",
        "plt.bar(range(NUM_CLASSES), [train_label_counts[i] for i in range(NUM_CLASSES)], color='skyblue')\n",
        "plt.title(\"Train Label Counts\")\n",
        "plt.xlabel(\"Class Index\")\n",
        "plt.ylabel(\"Count\")\n",
        "\n",
        "plt.subplot(1, 2, 2)\n",
        "plt.bar(range(NUM_CLASSES), [val_label_counts[i] for i in range(NUM_CLASSES)], color='salmon')\n",
        "plt.title(\"Validation Label Counts\")\n",
        "plt.xlabel(\"Class Index\")\n",
        "plt.ylabel(\"Count\")\n",
        "plt.tight_layout()\n",
        "plt.show()"
      ]
    },
    {
      "cell_type": "markdown",
      "source": [
        "5. 모델 구성: ResNet50 기반 (GlobalAveragePooling2D 사용)"
      ],
      "metadata": {
        "id": "Q-rRFwzJp5k0"
      }
    },
    {
      "cell_type": "code",
      "execution_count": 10,
      "metadata": {
        "id": "3-ut1mWCI9Sh",
        "colab": {
          "base_uri": "https://localhost:8080/",
          "height": 346
        },
        "outputId": "b9d8faf1-a477-401b-bddc-b6f26775a717"
      },
      "outputs": [
        {
          "output_type": "stream",
          "name": "stdout",
          "text": [
            "Downloading data from https://storage.googleapis.com/tensorflow/keras-applications/resnet/resnet50_weights_tf_dim_ordering_tf_kernels_notop.h5\n",
            "\u001b[1m94765736/94765736\u001b[0m \u001b[32m━━━━━━━━━━━━━━━━━━━━\u001b[0m\u001b[37m\u001b[0m \u001b[1m5s\u001b[0m 0us/step\n"
          ]
        },
        {
          "output_type": "display_data",
          "data": {
            "text/plain": [
              "\u001b[1mModel: \"sequential\"\u001b[0m\n"
            ],
            "text/html": [
              "<pre style=\"white-space:pre;overflow-x:auto;line-height:normal;font-family:Menlo,'DejaVu Sans Mono',consolas,'Courier New',monospace\"><span style=\"font-weight: bold\">Model: \"sequential\"</span>\n",
              "</pre>\n"
            ]
          },
          "metadata": {}
        },
        {
          "output_type": "display_data",
          "data": {
            "text/plain": [
              "┏━━━━━━━━━━━━━━━━━━━━━━━━━━━━━━━━━━━━━━┳━━━━━━━━━━━━━━━━━━━━━━━━━━━━━┳━━━━━━━━━━━━━━━━━┓\n",
              "┃\u001b[1m \u001b[0m\u001b[1mLayer (type)                        \u001b[0m\u001b[1m \u001b[0m┃\u001b[1m \u001b[0m\u001b[1mOutput Shape               \u001b[0m\u001b[1m \u001b[0m┃\u001b[1m \u001b[0m\u001b[1m        Param #\u001b[0m\u001b[1m \u001b[0m┃\n",
              "┡━━━━━━━━━━━━━━━━━━━━━━━━━━━━━━━━━━━━━━╇━━━━━━━━━━━━━━━━━━━━━━━━━━━━━╇━━━━━━━━━━━━━━━━━┩\n",
              "│ resnet50 (\u001b[38;5;33mFunctional\u001b[0m)                │ (\u001b[38;5;45mNone\u001b[0m, \u001b[38;5;34m7\u001b[0m, \u001b[38;5;34m7\u001b[0m, \u001b[38;5;34m2048\u001b[0m)          │      \u001b[38;5;34m23,587,712\u001b[0m │\n",
              "├──────────────────────────────────────┼─────────────────────────────┼─────────────────┤\n",
              "│ global_average_pooling2d             │ (\u001b[38;5;45mNone\u001b[0m, \u001b[38;5;34m2048\u001b[0m)                │               \u001b[38;5;34m0\u001b[0m │\n",
              "│ (\u001b[38;5;33mGlobalAveragePooling2D\u001b[0m)             │                             │                 │\n",
              "├──────────────────────────────────────┼─────────────────────────────┼─────────────────┤\n",
              "│ dense (\u001b[38;5;33mDense\u001b[0m)                        │ (\u001b[38;5;45mNone\u001b[0m, \u001b[38;5;34m256\u001b[0m)                 │         \u001b[38;5;34m524,544\u001b[0m │\n",
              "├──────────────────────────────────────┼─────────────────────────────┼─────────────────┤\n",
              "│ dense_1 (\u001b[38;5;33mDense\u001b[0m)                      │ (\u001b[38;5;45mNone\u001b[0m, \u001b[38;5;34m5\u001b[0m)                   │           \u001b[38;5;34m1,285\u001b[0m │\n",
              "└──────────────────────────────────────┴─────────────────────────────┴─────────────────┘\n"
            ],
            "text/html": [
              "<pre style=\"white-space:pre;overflow-x:auto;line-height:normal;font-family:Menlo,'DejaVu Sans Mono',consolas,'Courier New',monospace\">┏━━━━━━━━━━━━━━━━━━━━━━━━━━━━━━━━━━━━━━┳━━━━━━━━━━━━━━━━━━━━━━━━━━━━━┳━━━━━━━━━━━━━━━━━┓\n",
              "┃<span style=\"font-weight: bold\"> Layer (type)                         </span>┃<span style=\"font-weight: bold\"> Output Shape                </span>┃<span style=\"font-weight: bold\">         Param # </span>┃\n",
              "┡━━━━━━━━━━━━━━━━━━━━━━━━━━━━━━━━━━━━━━╇━━━━━━━━━━━━━━━━━━━━━━━━━━━━━╇━━━━━━━━━━━━━━━━━┩\n",
              "│ resnet50 (<span style=\"color: #0087ff; text-decoration-color: #0087ff\">Functional</span>)                │ (<span style=\"color: #00d7ff; text-decoration-color: #00d7ff\">None</span>, <span style=\"color: #00af00; text-decoration-color: #00af00\">7</span>, <span style=\"color: #00af00; text-decoration-color: #00af00\">7</span>, <span style=\"color: #00af00; text-decoration-color: #00af00\">2048</span>)          │      <span style=\"color: #00af00; text-decoration-color: #00af00\">23,587,712</span> │\n",
              "├──────────────────────────────────────┼─────────────────────────────┼─────────────────┤\n",
              "│ global_average_pooling2d             │ (<span style=\"color: #00d7ff; text-decoration-color: #00d7ff\">None</span>, <span style=\"color: #00af00; text-decoration-color: #00af00\">2048</span>)                │               <span style=\"color: #00af00; text-decoration-color: #00af00\">0</span> │\n",
              "│ (<span style=\"color: #0087ff; text-decoration-color: #0087ff\">GlobalAveragePooling2D</span>)             │                             │                 │\n",
              "├──────────────────────────────────────┼─────────────────────────────┼─────────────────┤\n",
              "│ dense (<span style=\"color: #0087ff; text-decoration-color: #0087ff\">Dense</span>)                        │ (<span style=\"color: #00d7ff; text-decoration-color: #00d7ff\">None</span>, <span style=\"color: #00af00; text-decoration-color: #00af00\">256</span>)                 │         <span style=\"color: #00af00; text-decoration-color: #00af00\">524,544</span> │\n",
              "├──────────────────────────────────────┼─────────────────────────────┼─────────────────┤\n",
              "│ dense_1 (<span style=\"color: #0087ff; text-decoration-color: #0087ff\">Dense</span>)                      │ (<span style=\"color: #00d7ff; text-decoration-color: #00d7ff\">None</span>, <span style=\"color: #00af00; text-decoration-color: #00af00\">5</span>)                   │           <span style=\"color: #00af00; text-decoration-color: #00af00\">1,285</span> │\n",
              "└──────────────────────────────────────┴─────────────────────────────┴─────────────────┘\n",
              "</pre>\n"
            ]
          },
          "metadata": {}
        },
        {
          "output_type": "display_data",
          "data": {
            "text/plain": [
              "\u001b[1m Total params: \u001b[0m\u001b[38;5;34m24,113,541\u001b[0m (91.99 MB)\n"
            ],
            "text/html": [
              "<pre style=\"white-space:pre;overflow-x:auto;line-height:normal;font-family:Menlo,'DejaVu Sans Mono',consolas,'Courier New',monospace\"><span style=\"font-weight: bold\"> Total params: </span><span style=\"color: #00af00; text-decoration-color: #00af00\">24,113,541</span> (91.99 MB)\n",
              "</pre>\n"
            ]
          },
          "metadata": {}
        },
        {
          "output_type": "display_data",
          "data": {
            "text/plain": [
              "\u001b[1m Trainable params: \u001b[0m\u001b[38;5;34m525,829\u001b[0m (2.01 MB)\n"
            ],
            "text/html": [
              "<pre style=\"white-space:pre;overflow-x:auto;line-height:normal;font-family:Menlo,'DejaVu Sans Mono',consolas,'Courier New',monospace\"><span style=\"font-weight: bold\"> Trainable params: </span><span style=\"color: #00af00; text-decoration-color: #00af00\">525,829</span> (2.01 MB)\n",
              "</pre>\n"
            ]
          },
          "metadata": {}
        },
        {
          "output_type": "display_data",
          "data": {
            "text/plain": [
              "\u001b[1m Non-trainable params: \u001b[0m\u001b[38;5;34m23,587,712\u001b[0m (89.98 MB)\n"
            ],
            "text/html": [
              "<pre style=\"white-space:pre;overflow-x:auto;line-height:normal;font-family:Menlo,'DejaVu Sans Mono',consolas,'Courier New',monospace\"><span style=\"font-weight: bold\"> Non-trainable params: </span><span style=\"color: #00af00; text-decoration-color: #00af00\">23,587,712</span> (89.98 MB)\n",
              "</pre>\n"
            ]
          },
          "metadata": {}
        }
      ],
      "source": [
        "# ResNet50 베이스 로드 (ImageNet weight) 및 전체 동결\n",
        "resnet_base = ResNet50(weights='imagenet', include_top=False, input_shape=(IMG_SIZE[0], IMG_SIZE[1], 3))\n",
        "resnet_base.trainable = False\n",
        "\n",
        "model = Sequential([\n",
        "    resnet_base,\n",
        "    GlobalAveragePooling2D(),\n",
        "    Dense(256, activation='relu'),\n",
        "    Dense(NUM_CLASSES, activation='softmax')\n",
        "])\n",
        "\n",
        "model.summary()"
      ]
    },
    {
      "cell_type": "markdown",
      "source": [
        "6. Phase 1 학습: 베이스 전체 동결 상태에서 학습"
      ],
      "metadata": {
        "id": "abP2wHSWp8f0"
      }
    },
    {
      "cell_type": "code",
      "execution_count": 11,
      "metadata": {
        "colab": {
          "base_uri": "https://localhost:8080/"
        },
        "id": "9EXjcu1ZJEkB",
        "outputId": "7ded46b4-0978-4df8-a038-a4ad6203f3a9"
      },
      "outputs": [
        {
          "output_type": "stream",
          "name": "stderr",
          "text": [
            "/usr/local/lib/python3.11/dist-packages/keras/src/trainers/data_adapters/py_dataset_adapter.py:121: UserWarning: Your `PyDataset` class should call `super().__init__(**kwargs)` in its constructor. `**kwargs` can include `workers`, `use_multiprocessing`, `max_queue_size`. Do not pass these arguments to `fit()`, as they will be ignored.\n",
            "  self._warn_if_super_not_called()\n"
          ]
        },
        {
          "output_type": "stream",
          "name": "stdout",
          "text": [
            "Epoch 1/5\n",
            "\u001b[1m69/69\u001b[0m \u001b[32m━━━━━━━━━━━━━━━━━━━━\u001b[0m\u001b[37m\u001b[0m \u001b[1m60s\u001b[0m 650ms/step - accuracy: 0.2583 - loss: 1.6332 - val_accuracy: 0.3193 - val_loss: 1.5797\n",
            "Epoch 2/5\n",
            "\u001b[1m69/69\u001b[0m \u001b[32m━━━━━━━━━━━━━━━━━━━━\u001b[0m\u001b[37m\u001b[0m \u001b[1m31s\u001b[0m 446ms/step - accuracy: 0.3420 - loss: 1.5175 - val_accuracy: 0.3942 - val_loss: 1.4680\n",
            "Epoch 3/5\n",
            "\u001b[1m69/69\u001b[0m \u001b[32m━━━━━━━━━━━━━━━━━━━━\u001b[0m\u001b[37m\u001b[0m \u001b[1m31s\u001b[0m 448ms/step - accuracy: 0.3459 - loss: 1.5012 - val_accuracy: 0.3850 - val_loss: 1.4634\n",
            "Epoch 4/5\n",
            "\u001b[1m69/69\u001b[0m \u001b[32m━━━━━━━━━━━━━━━━━━━━\u001b[0m\u001b[37m\u001b[0m \u001b[1m31s\u001b[0m 446ms/step - accuracy: 0.3623 - loss: 1.4861 - val_accuracy: 0.3923 - val_loss: 1.4515\n",
            "Epoch 5/5\n",
            "\u001b[1m69/69\u001b[0m \u001b[32m━━━━━━━━━━━━━━━━━━━━\u001b[0m\u001b[37m\u001b[0m \u001b[1m31s\u001b[0m 448ms/step - accuracy: 0.4179 - loss: 1.4383 - val_accuracy: 0.3595 - val_loss: 1.4907\n"
          ]
        }
      ],
      "source": [
        "PHASE1_EPOCHS = 5\n",
        "INITIAL_LR = 1e-3\n",
        "\n",
        "model.compile(\n",
        "    optimizer=Adam(learning_rate=INITIAL_LR),\n",
        "    loss='categorical_crossentropy',\n",
        "    metrics=['accuracy']\n",
        ")\n",
        "\n",
        "# MySQLLogger 콜백 인스턴스 생성 (DB 접속 정보 수정 필요)\n",
        "mysql_logger = MySQLLogger(\n",
        "    host='localhost',\n",
        "    user='your_username',\n",
        "    password='your_password',\n",
        "    database='your_database',\n",
        "    table_name='training_metrics'\n",
        ")\n",
        "\n",
        "history_phase1 = model.fit(\n",
        "    train_generator,\n",
        "    epochs=PHASE1_EPOCHS,\n",
        "    validation_data=validation_generator,\n",
        "    callbacks=[mysql_logger],\n",
        "  class_weight=class_weight\n",
        ")"
      ]
    },
    {
      "cell_type": "markdown",
      "source": [
        "7. Phase 2 학습: 일부 레이어 Unfreeze 및 학습률 감소"
      ],
      "metadata": {
        "id": "YsUEldG6qBaI"
      }
    },
    {
      "cell_type": "code",
      "execution_count": 12,
      "metadata": {
        "colab": {
          "base_uri": "https://localhost:8080/"
        },
        "id": "08ClX5IpJI5J",
        "outputId": "9e782069-e1bc-4855-b7e7-2d8fa7da8855"
      },
      "outputs": [
        {
          "output_type": "stream",
          "name": "stdout",
          "text": [
            "Epoch 1/20\n",
            "\u001b[1m69/69\u001b[0m \u001b[32m━━━━━━━━━━━━━━━━━━━━\u001b[0m\u001b[37m\u001b[0m \u001b[1m55s\u001b[0m 603ms/step - accuracy: 0.3551 - loss: 1.8590 - val_accuracy: 0.3248 - val_loss: 1.6501 - learning_rate: 1.0000e-04\n",
            "Epoch 2/20\n",
            "\u001b[1m69/69\u001b[0m \u001b[32m━━━━━━━━━━━━━━━━━━━━\u001b[0m\u001b[37m\u001b[0m \u001b[1m31s\u001b[0m 448ms/step - accuracy: 0.4813 - loss: 1.3072 - val_accuracy: 0.3449 - val_loss: 1.6445 - learning_rate: 1.0000e-04\n",
            "Epoch 3/20\n",
            "\u001b[1m69/69\u001b[0m \u001b[32m━━━━━━━━━━━━━━━━━━━━\u001b[0m\u001b[37m\u001b[0m \u001b[1m31s\u001b[0m 449ms/step - accuracy: 0.5021 - loss: 1.2743 - val_accuracy: 0.3887 - val_loss: 1.5397 - learning_rate: 1.0000e-04\n",
            "Epoch 4/20\n",
            "\u001b[1m69/69\u001b[0m \u001b[32m━━━━━━━━━━━━━━━━━━━━\u001b[0m\u001b[37m\u001b[0m \u001b[1m31s\u001b[0m 448ms/step - accuracy: 0.5312 - loss: 1.1880 - val_accuracy: 0.3777 - val_loss: 1.5128 - learning_rate: 1.0000e-04\n",
            "Epoch 5/20\n",
            "\u001b[1m69/69\u001b[0m \u001b[32m━━━━━━━━━━━━━━━━━━━━\u001b[0m\u001b[37m\u001b[0m \u001b[1m31s\u001b[0m 450ms/step - accuracy: 0.5354 - loss: 1.2093 - val_accuracy: 0.4161 - val_loss: 1.4174 - learning_rate: 1.0000e-04\n",
            "Epoch 6/20\n",
            "\u001b[1m69/69\u001b[0m \u001b[32m━━━━━━━━━━━━━━━━━━━━\u001b[0m\u001b[37m\u001b[0m \u001b[1m31s\u001b[0m 447ms/step - accuracy: 0.5452 - loss: 1.1558 - val_accuracy: 0.3996 - val_loss: 1.6277 - learning_rate: 1.0000e-04\n",
            "Epoch 7/20\n",
            "\u001b[1m69/69\u001b[0m \u001b[32m━━━━━━━━━━━━━━━━━━━━\u001b[0m\u001b[37m\u001b[0m \u001b[1m31s\u001b[0m 446ms/step - accuracy: 0.5419 - loss: 1.1878 - val_accuracy: 0.4471 - val_loss: 1.3716 - learning_rate: 1.0000e-04\n",
            "Epoch 8/20\n",
            "\u001b[1m69/69\u001b[0m \u001b[32m━━━━━━━━━━━━━━━━━━━━\u001b[0m\u001b[37m\u001b[0m \u001b[1m31s\u001b[0m 447ms/step - accuracy: 0.5544 - loss: 1.1496 - val_accuracy: 0.5091 - val_loss: 1.2737 - learning_rate: 1.0000e-04\n",
            "Epoch 9/20\n",
            "\u001b[1m69/69\u001b[0m \u001b[32m━━━━━━━━━━━━━━━━━━━━\u001b[0m\u001b[37m\u001b[0m \u001b[1m31s\u001b[0m 448ms/step - accuracy: 0.5610 - loss: 1.1361 - val_accuracy: 0.4434 - val_loss: 1.3620 - learning_rate: 1.0000e-04\n",
            "Epoch 10/20\n",
            "\u001b[1m69/69\u001b[0m \u001b[32m━━━━━━━━━━━━━━━━━━━━\u001b[0m\u001b[37m\u001b[0m \u001b[1m31s\u001b[0m 446ms/step - accuracy: 0.5652 - loss: 1.1072 - val_accuracy: 0.3084 - val_loss: 1.7562 - learning_rate: 1.0000e-04\n",
            "Epoch 11/20\n",
            "\u001b[1m69/69\u001b[0m \u001b[32m━━━━━━━━━━━━━━━━━━━━\u001b[0m\u001b[37m\u001b[0m \u001b[1m31s\u001b[0m 448ms/step - accuracy: 0.5664 - loss: 1.1098 - val_accuracy: 0.5018 - val_loss: 1.2211 - learning_rate: 1.0000e-04\n",
            "Epoch 12/20\n",
            "\u001b[1m69/69\u001b[0m \u001b[32m━━━━━━━━━━━━━━━━━━━━\u001b[0m\u001b[37m\u001b[0m \u001b[1m31s\u001b[0m 444ms/step - accuracy: 0.5905 - loss: 1.0843 - val_accuracy: 0.4361 - val_loss: 1.3902 - learning_rate: 1.0000e-04\n",
            "Epoch 13/20\n",
            "\u001b[1m69/69\u001b[0m \u001b[32m━━━━━━━━━━━━━━━━━━━━\u001b[0m\u001b[37m\u001b[0m \u001b[1m31s\u001b[0m 445ms/step - accuracy: 0.6049 - loss: 1.0456 - val_accuracy: 0.5018 - val_loss: 1.2986 - learning_rate: 1.0000e-04\n",
            "Epoch 14/20\n",
            "\u001b[1m69/69\u001b[0m \u001b[32m━━━━━━━━━━━━━━━━━━━━\u001b[0m\u001b[37m\u001b[0m \u001b[1m31s\u001b[0m 445ms/step - accuracy: 0.5941 - loss: 1.0798 - val_accuracy: 0.4580 - val_loss: 1.3780 - learning_rate: 1.0000e-04\n",
            "Epoch 15/20\n",
            "\u001b[1m69/69\u001b[0m \u001b[32m━━━━━━━━━━━━━━━━━━━━\u001b[0m\u001b[37m\u001b[0m \u001b[1m31s\u001b[0m 449ms/step - accuracy: 0.6010 - loss: 1.0632 - val_accuracy: 0.5456 - val_loss: 1.1580 - learning_rate: 1.0000e-05\n",
            "Epoch 16/20\n",
            "\u001b[1m69/69\u001b[0m \u001b[32m━━━━━━━━━━━━━━━━━━━━\u001b[0m\u001b[37m\u001b[0m \u001b[1m31s\u001b[0m 449ms/step - accuracy: 0.6125 - loss: 1.0304 - val_accuracy: 0.5803 - val_loss: 1.1325 - learning_rate: 1.0000e-05\n",
            "Epoch 17/20\n",
            "\u001b[1m69/69\u001b[0m \u001b[32m━━━━━━━━━━━━━━━━━━━━\u001b[0m\u001b[37m\u001b[0m \u001b[1m31s\u001b[0m 447ms/step - accuracy: 0.6147 - loss: 1.0159 - val_accuracy: 0.5401 - val_loss: 1.1608 - learning_rate: 1.0000e-05\n",
            "Epoch 18/20\n",
            "\u001b[1m69/69\u001b[0m \u001b[32m━━━━━━━━━━━━━━━━━━━━\u001b[0m\u001b[37m\u001b[0m \u001b[1m31s\u001b[0m 445ms/step - accuracy: 0.5858 - loss: 1.0446 - val_accuracy: 0.5474 - val_loss: 1.1634 - learning_rate: 1.0000e-05\n",
            "Epoch 19/20\n",
            "\u001b[1m69/69\u001b[0m \u001b[32m━━━━━━━━━━━━━━━━━━━━\u001b[0m\u001b[37m\u001b[0m \u001b[1m31s\u001b[0m 448ms/step - accuracy: 0.6150 - loss: 1.0167 - val_accuracy: 0.5584 - val_loss: 1.1470 - learning_rate: 1.0000e-05\n",
            "Epoch 20/20\n",
            "\u001b[1m69/69\u001b[0m \u001b[32m━━━━━━━━━━━━━━━━━━━━\u001b[0m\u001b[37m\u001b[0m \u001b[1m31s\u001b[0m 447ms/step - accuracy: 0.6116 - loss: 1.0169 - val_accuracy: 0.5547 - val_loss: 1.1735 - learning_rate: 1.0000e-06\n"
          ]
        }
      ],
      "source": [
        "for layer in resnet_base.layers[-5:]:\n",
        "    layer.trainable = True\n",
        "\n",
        "model.compile(\n",
        "    optimizer=Adam(learning_rate=1e-4),\n",
        "    loss='categorical_crossentropy',\n",
        "    metrics=['accuracy']\n",
        ")\n",
        "\n",
        "early_stopping = EarlyStopping(monitor='val_loss', patience=5, restore_best_weights=True)\n",
        "reduce_lr = ReduceLROnPlateau(monitor='val_loss', factor=0.1, patience=3, min_lr=1e-6)\n",
        "\n",
        "# Phase 2 전용 MySQLLogger 콜백 인스턴스 생성 (테이블명은 상황에 맞게 변경 가능)\n",
        "mysql_logger_phase2 = MySQLLogger(\n",
        "    host='localhost',\n",
        "    user='your_username',\n",
        "    password='your_password',\n",
        "    database='your_database',\n",
        "    table_name='training_metrics_phase2'\n",
        ")\n",
        "\n",
        "history_phase2 = model.fit(\n",
        "    train_generator,\n",
        "    epochs=20,\n",
        "    validation_data=validation_generator,\n",
        "    callbacks=[early_stopping, reduce_lr, mysql_logger_phase2]\n",
        ")"
      ]
    },
    {
      "cell_type": "markdown",
      "source": [
        "8. 전체 학습 결과 병합 및 시각화"
      ],
      "metadata": {
        "id": "uuAi3egKqbWA"
      }
    },
    {
      "cell_type": "code",
      "execution_count": 13,
      "metadata": {
        "colab": {
          "base_uri": "https://localhost:8080/",
          "height": 291
        },
        "id": "k_UZibuNJHOL",
        "outputId": "f1e9b7ba-7ec4-4663-9c69-5094501a20ef"
      },
      "outputs": [
        {
          "output_type": "display_data",
          "data": {
            "text/plain": [
              "<Figure size 1200x400 with 2 Axes>"
            ],
            "image/png": "[encoded data removed]"
          },
          "metadata": {}
        }
      ],
      "source": [
        "acc = history_phase1.history['accuracy'] + history_phase2.history['accuracy']\n",
        "val_acc = history_phase1.history['val_accuracy'] + history_phase2.history['val_accuracy']\n",
        "loss_values = history_phase1.history['loss'] + history_phase2.history['loss']\n",
        "val_loss_values = history_phase1.history['val_loss'] + history_phase2.history['val_loss']\n",
        "epochs_total = range(1, len(acc) + 1)\n",
        "\n",
        "plt.figure(figsize=(12, 4))\n",
        "plt.subplot(1, 2, 1)\n",
        "plt.plot(epochs_total, loss_values, label='Train Loss')\n",
        "plt.plot(epochs_total, val_loss_values, label='Validation Loss')\n",
        "plt.xlabel('Epoch')\n",
        "plt.ylabel('Loss')\n",
        "plt.title('Loss over Epochs')\n",
        "plt.legend()\n",
        "\n",
        "plt.subplot(1, 2, 2)\n",
        "plt.plot(epochs_total, acc, label='Train Accuracy')\n",
        "plt.plot(epochs_total, val_acc, label='Validation Accuracy')\n",
        "plt.xlabel('Epoch')\n",
        "plt.ylabel('Accuracy')\n",
        "plt.title('Accuracy over Epochs')\n",
        "plt.legend()\n",
        "\n",
        "plt.tight_layout()\n",
        "plt.show()"
      ]
    },
    {
      "cell_type": "markdown",
      "source": [
        "9. 최종 모델 평가"
      ],
      "metadata": {
        "id": "SiNOhad3qePa"
      }
    },
    {
      "cell_type": "code",
      "execution_count": 14,
      "metadata": {
        "colab": {
          "base_uri": "https://localhost:8080/"
        },
        "id": "-AHwkmYRJ7He",
        "outputId": "9629e0f9-4521-4114-9d57-3bc26009688d"
      },
      "outputs": [
        {
          "output_type": "stream",
          "name": "stdout",
          "text": [
            "\u001b[1m18/18\u001b[0m \u001b[32m━━━━━━━━━━━━━━━━━━━━\u001b[0m\u001b[37m\u001b[0m \u001b[1m6s\u001b[0m 337ms/step - accuracy: 0.5656 - loss: 1.0814\n",
            "Final Validation Loss: 1.1435\n",
            "Final Validation Accuracy: 0.5474\n"
          ]
        }
      ],
      "source": [
        "final_loss, final_accuracy = model.evaluate(validation_generator)\n",
        "print(f\"Final Validation Loss: {final_loss:.4f}\")\n",
        "print(f\"Final Validation Accuracy: {final_accuracy:.4f}\")"
      ]
    },
    {
      "cell_type": "code",
      "execution_count": null,
      "metadata": {
        "id": "TXsTTbbXdhxD"
      },
      "outputs": [],
      "source": []
    }
  ],
  "metadata": {
    "accelerator": "GPU",
    "colab": {
      "gpuType": "A100",
      "machine_shape": "hm",
      "provenance": [],
      "authorship_tag": "ABX9TyN0yZGB5bCy0vaEYWDb38S3",
      "include_colab_link": true
    },
    "kernelspec": {
      "display_name": "Python 3",
      "name": "python3"
    },
    "language_info": {
      "name": "python"
    }
  },
  "nbformat": 4,
  "nbformat_minor": 0
}